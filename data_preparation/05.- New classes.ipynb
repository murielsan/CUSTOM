{
 "cells": [
  {
   "cell_type": "markdown",
   "id": "3ed2bbf6",
   "metadata": {},
   "source": [
    "## Load AudioSet data from file\n",
    "\n",
    "Data extracted by:\n",
    "https://github.com/qiuqiangkong/audioset_classification"
   ]
  },
  {
   "cell_type": "raw",
   "id": "62ab52e5",
   "metadata": {},
   "source": [
    "import h5py\n",
    "import numpy as np\n",
    "\n",
    "feat_dir = \"./features/\"\n",
    "models_dir = \"./models/\"\n",
    "hdf5_path = \"../dataset/packed_features\"\n",
    "\n",
    "def load_data(hdf5_path):\n",
    "    with h5py.File(hdf5_path, 'r') as hf:\n",
    "        x = hf.get('x')\n",
    "        y = hf.get('y')\n",
    "        video_id_list = hf.get('video_id_list')\n",
    "        x = np.array(x)\n",
    "        y = list(y)\n",
    "        video_id_list = list(video_id_list)\n",
    "        \n",
    "    return x, y, video_id_list\n",
    "\n",
    "def uint8_to_float32(x):\n",
    "    return (np.float32(x) - 128.) / 128.\n",
    "    \n",
    "def bool_to_float32(y):\n",
    "    return np.float32(y)\n",
    "\n",
    "(x_train, y_train, train_video_id_list) = load_data(hdf5_path+\"/bal_train.h5\")\n",
    "(x_eval, y_eval, eval_video_id_list) = load_data(hdf5_path+\"/eval.h5\")\n",
    "(x_unbal, y_unbal, unbal_video_id_list) = load_data(hdf5_path+\"/unbal_train.h5\")"
   ]
  },
  {
   "cell_type": "raw",
   "id": "86ec58b7",
   "metadata": {},
   "source": [
    "#Convert\n",
    "x_train = uint8_to_float32(x_train)\t\t# shape: (N, 10, 128)\n",
    "y_train = np.array(y_train).astype(int)\t\t\t# shape: (N, 527)\n",
    "x_eval = uint8_to_float32(x_eval)\n",
    "y_eval = np.array(y_eval).astype(int)\n",
    "x_unbal = uint8_to_float32(x_unbal)\n",
    "y_unbal = np.array(y_unbal).astype(int)"
   ]
  },
  {
   "cell_type": "raw",
   "id": "0a6d9ef6",
   "metadata": {},
   "source": [
    "# Save everything\n",
    "import pickle\n",
    "from pathlib import Path\n",
    "\n",
    "base_dir = \"./features/\"\n",
    "# Save training and evaluation sets\n",
    "Path(base_dir).mkdir(exist_ok=True)   \n",
    "\n",
    "dump_filename = f\"{base_dir}x_train_new.pkl\"\n",
    "with open(dump_filename, \"wb\") as dump_file:\n",
    "    pickle.dump(x_train, dump_file)\n",
    "    \n",
    "dump_filename = f\"{base_dir}y_train_new.pkl\"\n",
    "with open(dump_filename, \"wb\") as dump_file:\n",
    "    pickle.dump(y_train, dump_file)\n",
    "    \n",
    "dump_filename = f\"{base_dir}X_eval_new.pkl\"\n",
    "with open(dump_filename, \"wb\") as dump_file:\n",
    "    pickle.dump(x_eval, dump_file)\n",
    "    \n",
    "dump_filename = f\"{base_dir}y_eval_new.pkl\"\n",
    "with open(dump_filename, \"wb\") as dump_file:\n",
    "    pickle.dump(y_eval, dump_file)\n",
    "    \n",
    "dump_filename = f\"{base_dir}X_unbal_new.pkl\"\n",
    "with open(dump_filename, \"wb\") as dump_file:\n",
    "    pickle.dump(x_unbal, dump_file)\n",
    "    \n",
    "dump_filename = f\"{base_dir}y_unbal_new.pkl\"\n",
    "with open(dump_filename, \"wb\") as dump_file:\n",
    "    pickle.dump(y_unbal, dump_file)"
   ]
  },
  {
   "cell_type": "code",
   "execution_count": 47,
   "id": "5a930712",
   "metadata": {},
   "outputs": [],
   "source": [
    "# Load files\n",
    "from pathlib import Path\n",
    "import pickle\n",
    "import numpy as np\n",
    "\n",
    "base_dir = \"./features/\"\n",
    "\n",
    "load_file = f\"{base_dir}x_train_new.pkl\"\n",
    "with open(load_file, \"rb\") as load_file:\n",
    "    x_train = pickle.load(load_file)\n",
    "    \n",
    "load_file = f\"{base_dir}y_train_new.pkl\"\n",
    "with open(load_file, \"rb\") as load_file:\n",
    "    y_train = pickle.load(load_file)\n",
    "    \n",
    "load_file = f\"{base_dir}X_eval_new.pkl\"\n",
    "with open(load_file, \"rb\") as load_file:\n",
    "    x_eval = pickle.load(load_file)\n",
    "    \n",
    "load_file = f\"{base_dir}y_eval_new.pkl\"\n",
    "with open(load_file, \"rb\") as load_file:\n",
    "    y_eval = pickle.load(load_file)\n",
    "    \n",
    "load_file = f\"{base_dir}X_unbal_new.pkl\"\n",
    "with open(load_file, \"rb\") as load_file:\n",
    "    x_unbal = pickle.load(load_file)\n",
    "    \n",
    "load_file = f\"{base_dir}y_unbal_new.pkl\"\n",
    "with open(load_file, \"rb\") as load_file:\n",
    "    y_unbal = pickle.load(load_file)"
   ]
  },
  {
   "cell_type": "code",
   "execution_count": 48,
   "id": "7a16eaa7",
   "metadata": {
    "scrolled": false
   },
   "outputs": [
    {
     "data": {
      "text/html": [
       "<div><div id=8a73cc49-1dce-4b89-824d-250b77bb37e6 style=\"display:none; background-color:#9D6CFF; color:white; width:200px; height:30px; padding-left:5px; border-radius:4px; flex-direction:row; justify-content:space-around; align-items:center;\" onmouseover=\"this.style.backgroundColor='#BA9BF8'\" onmouseout=\"this.style.backgroundColor='#9D6CFF'\" onclick=\"window.commands?.execute('create-mitosheet-from-dataframe-output');\">See Full Dataframe in Mito</div> <script> if (window.commands.hasCommand('create-mitosheet-from-dataframe-output')) document.getElementById('8a73cc49-1dce-4b89-824d-250b77bb37e6').style.display = 'flex' </script> <table border=\"1\" class=\"dataframe\">\n",
       "  <thead>\n",
       "    <tr style=\"text-align: right;\">\n",
       "      <th></th>\n",
       "      <th>mid</th>\n",
       "      <th>display_name</th>\n",
       "    </tr>\n",
       "    <tr>\n",
       "      <th>index</th>\n",
       "      <th></th>\n",
       "      <th></th>\n",
       "    </tr>\n",
       "  </thead>\n",
       "  <tbody>\n",
       "    <tr>\n",
       "      <th>0</th>\n",
       "      <td>/m/09x0r</td>\n",
       "      <td>Speech</td>\n",
       "    </tr>\n",
       "    <tr>\n",
       "      <th>53</th>\n",
       "      <td>/m/07pbtc8</td>\n",
       "      <td>Walk, footsteps</td>\n",
       "    </tr>\n",
       "    <tr>\n",
       "      <th>71</th>\n",
       "      <td>/t/dd00013</td>\n",
       "      <td>Children playing</td>\n",
       "    </tr>\n",
       "    <tr>\n",
       "      <th>74</th>\n",
       "      <td>/m/0bt9lr</td>\n",
       "      <td>Dog</td>\n",
       "    </tr>\n",
       "    <tr>\n",
       "      <th>111</th>\n",
       "      <td>/m/015p6</td>\n",
       "      <td>Bird</td>\n",
       "    </tr>\n",
       "    <tr>\n",
       "      <th>300</th>\n",
       "      <td>/m/07yv9</td>\n",
       "      <td>Vehicle</td>\n",
       "    </tr>\n",
       "    <tr>\n",
       "      <th>308</th>\n",
       "      <td>/m/0912c9</td>\n",
       "      <td>Vehicle horn, car horn, honking</td>\n",
       "    </tr>\n",
       "    <tr>\n",
       "      <th>328</th>\n",
       "      <td>/m/06d_3</td>\n",
       "      <td>Rail transport</td>\n",
       "    </tr>\n",
       "    <tr>\n",
       "      <th>396</th>\n",
       "      <td>/m/03kmc9</td>\n",
       "      <td>Siren</td>\n",
       "    </tr>\n",
       "    <tr>\n",
       "      <th>420</th>\n",
       "      <td>/m/03p19w</td>\n",
       "      <td>Jackhammer</td>\n",
       "    </tr>\n",
       "  </tbody>\n",
       "</table></div>"
      ],
      "text/plain": [
       "              mid                     display_name\n",
       "index                                             \n",
       "0        /m/09x0r                           Speech\n",
       "53     /m/07pbtc8                  Walk, footsteps\n",
       "71     /t/dd00013                 Children playing\n",
       "74      /m/0bt9lr                              Dog\n",
       "111      /m/015p6                             Bird\n",
       "300      /m/07yv9                          Vehicle\n",
       "308     /m/0912c9  Vehicle horn, car horn, honking\n",
       "328      /m/06d_3                   Rail transport\n",
       "396     /m/03kmc9                            Siren\n",
       "420     /m/03p19w                       Jackhammer"
      ]
     },
     "execution_count": 48,
     "metadata": {},
     "output_type": "execute_result"
    }
   ],
   "source": [
    "# Select the classes we want\n",
    "import pandas as pd\n",
    "\n",
    "classes_file = \"../dataset/class_labels_indices.csv\"\n",
    "\n",
    "df = pd.read_csv(classes_file)\n",
    "df = df.set_index('index')\n",
    "selected_classes = [\"Vehicle horn, car horn, honking\", \"Children playing\", \"Dog\", \"Jackhammer\", \"Siren\", \n",
    "                    \"Vehicle\", \"Rail transport\", \"Walk, footsteps\", \"Speech\", \"Bird\"]\n",
    "\n",
    "df_sel = df[df['display_name'].isin(selected_classes)]\n",
    "df_sel.head(10)"
   ]
  },
  {
   "cell_type": "code",
   "execution_count": 25,
   "id": "66136004",
   "metadata": {},
   "outputs": [],
   "source": [
    "filter_classes = list(df_sel.index)\n",
    "\n",
    "y_train_filtered = y_train[:,filter_classes]\n",
    "\n",
    "# Rows that contain only ONE of our classes (There are 264 datapints with 2 classes or more)\n",
    "filter = np.argwhere(np.sum(y_train_filtered, axis=1) == 1)\n",
    "y_train = y_train_filtered[filter.flat]\n",
    "x_train = x_train[filter.flat]\n",
    "\n",
    "y_eval_filtered = y_eval[:,filter_classes]\n",
    "\n",
    "filter = np.argwhere(np.sum(y_eval_filtered, axis=1) == 1)\n",
    "y_eval = y_eval_filtered[filter.flat]\n",
    "x_eval = x_eval[filter.flat]\n",
    "\n",
    "y_unbal_filtered = y_unbal[:,filter_classes]\n",
    "\n",
    "filter = np.argwhere(np.sum(y_unbal_filtered, axis=1) == 1)\n",
    "y_unbal = y_unbal_filtered[filter.flat]\n",
    "x_unbal = x_unbal[filter.flat]"
   ]
  },
  {
   "cell_type": "code",
   "execution_count": null,
   "id": "70b3e086",
   "metadata": {},
   "outputs": [],
   "source": []
  },
  {
   "cell_type": "code",
   "execution_count": 36,
   "id": "37824c9f",
   "metadata": {},
   "outputs": [],
   "source": [
    "import matplotlib.pyplot as plt\n",
    "\n",
    "counters = {}\n",
    "counters_values = []\n",
    "for i in y_train:\n",
    "    for k in i:\n",
    "        if k in counters_values:\n",
    "            counters[df.iloc[k]['display_name']] += 1\n",
    "        else: \n",
    "            counters[df.iloc[k]['display_name']] = 0\n",
    "            counters_values.append(k)"
   ]
  },
  {
   "cell_type": "code",
   "execution_count": 60,
   "id": "4b3b439a",
   "metadata": {},
   "outputs": [],
   "source": [
    "filter_classes = list(df_sel.index)\n",
    "\n",
    "y_train_filtered = y_train[:,filter_classes]\n",
    "\n",
    "# Rows that contain only ONE of our classes (There are 264 datapints with 2 classes or more) 7112-6563\n",
    "filter = np.argwhere(np.sum(y_train_filtered, axis=1) == 1)"
   ]
  },
  {
   "cell_type": "code",
   "execution_count": 65,
   "id": "3193efed",
   "metadata": {},
   "outputs": [
    {
     "data": {
      "text/plain": [
       "array([5217,   26,    2,  180,  150,  546,   17,  181,  206,   38])"
      ]
     },
     "execution_count": 65,
     "metadata": {},
     "output_type": "execute_result"
    }
   ],
   "source": [
    "y_train_filtered[filter.flat].sum(axis=0)"
   ]
  },
  {
   "cell_type": "code",
   "execution_count": 66,
   "id": "405c8281",
   "metadata": {},
   "outputs": [],
   "source": [
    "X = np.concatenate((x_train, x_unbal))\n",
    "y = np.concatenate((y_train, y_unbal))"
   ]
  },
  {
   "cell_type": "code",
   "execution_count": 70,
   "id": "f227caf9",
   "metadata": {},
   "outputs": [
    {
     "data": {
      "text/plain": [
       "array([943791,    673,     26,   6986,  18057,  77929,   1236,   4025,\n",
       "         7077,    142])"
      ]
     },
     "execution_count": 70,
     "metadata": {},
     "output_type": "execute_result"
    }
   ],
   "source": [
    "filter_classes = list(df_sel.index)\n",
    "\n",
    "y_filtered = y[:,filter_classes]\n",
    "\n",
    "# Rows that contain only ONE of our classes (There are 264 datapints with 2 classes or more) 7112-6563\n",
    "filter = np.argwhere(np.sum(y_filtered, axis=1) == 1)\n",
    "y_filtered[filter.flat].sum(axis=0)"
   ]
  },
  {
   "cell_type": "code",
   "execution_count": 27,
   "id": "29130677",
   "metadata": {},
   "outputs": [
    {
     "name": "stdout",
     "output_type": "stream",
     "text": [
      "Model: \"qiuqiangkong\"\n",
      "__________________________________________________________________________________________________\n",
      " Layer (type)                   Output Shape         Param #     Connected to                     \n",
      "==================================================================================================\n",
      " input_2 (InputLayer)           [(None, 10, 128)]    0           []                               \n",
      "                                                                                                  \n",
      " dense_6 (Dense)                (None, 10, 1024)     132096      ['input_2[0][0]']                \n",
      "                                                                                                  \n",
      " batch_normalization_4 (BatchNo  (None, 10, 1024)    4096        ['dense_6[0][0]']                \n",
      " rmalization)                                                                                     \n",
      "                                                                                                  \n",
      " activation_4 (Activation)      (None, 10, 1024)     0           ['batch_normalization_4[0][0]']  \n",
      "                                                                                                  \n",
      " dropout_4 (Dropout)            (None, 10, 1024)     0           ['activation_4[0][0]']           \n",
      "                                                                                                  \n",
      " dense_7 (Dense)                (None, 10, 1024)     1049600     ['dropout_4[0][0]']              \n",
      "                                                                                                  \n",
      " batch_normalization_5 (BatchNo  (None, 10, 1024)    4096        ['dense_7[0][0]']                \n",
      " rmalization)                                                                                     \n",
      "                                                                                                  \n",
      " activation_5 (Activation)      (None, 10, 1024)     0           ['batch_normalization_5[0][0]']  \n",
      "                                                                                                  \n",
      " dropout_5 (Dropout)            (None, 10, 1024)     0           ['activation_5[0][0]']           \n",
      "                                                                                                  \n",
      " dense_8 (Dense)                (None, 10, 1024)     1049600     ['dropout_5[0][0]']              \n",
      "                                                                                                  \n",
      " batch_normalization_6 (BatchNo  (None, 10, 1024)    4096        ['dense_8[0][0]']                \n",
      " rmalization)                                                                                     \n",
      "                                                                                                  \n",
      " activation_6 (Activation)      (None, 10, 1024)     0           ['batch_normalization_6[0][0]']  \n",
      "                                                                                                  \n",
      " dropout_6 (Dropout)            (None, 10, 1024)     0           ['activation_6[0][0]']           \n",
      "                                                                                                  \n",
      " dense_9 (Dense)                (None, 10, 1024)     1049600     ['dropout_6[0][0]']              \n",
      "                                                                                                  \n",
      " dense_10 (Dense)               (None, 10, 1024)     1049600     ['dropout_6[0][0]']              \n",
      "                                                                                                  \n",
      " lambda_1 (Lambda)              (None, 1024)         0           ['dense_9[0][0]',                \n",
      "                                                                  'dense_10[0][0]']               \n",
      "                                                                                                  \n",
      " batch_normalization_7 (BatchNo  (None, 1024)        4096        ['lambda_1[0][0]']               \n",
      " rmalization)                                                                                     \n",
      "                                                                                                  \n",
      " activation_7 (Activation)      (None, 1024)         0           ['batch_normalization_7[0][0]']  \n",
      "                                                                                                  \n",
      " dropout_7 (Dropout)            (None, 1024)         0           ['activation_7[0][0]']           \n",
      "                                                                                                  \n",
      " dense_11 (Dense)               (None, 10)           10250       ['dropout_7[0][0]']              \n",
      "                                                                                                  \n",
      "==================================================================================================\n",
      "Total params: 4,357,130\n",
      "Trainable params: 4,348,938\n",
      "Non-trainable params: 8,192\n",
      "__________________________________________________________________________________________________\n"
     ]
    }
   ],
   "source": [
    "import keras\n",
    "from keras import callbacks\n",
    "from tensorflow.keras.layers import Dense, Dropout, Input, BatchNormalization, Activation, Lambda\n",
    "import keras.backend as K\n",
    "import tensorflow as tf\n",
    "\n",
    "def auroc(y_true, y_pred):\n",
    "    return tf.numpy_function(roc_auc_score, (y_true, y_pred), tf.double)\n",
    "\n",
    "def attention_pooling(inputs, **kwargs):\n",
    "    [out, att] = inputs\n",
    "\n",
    "    epsilon = 1e-7\n",
    "    att = K.clip(att, epsilon, 1. - epsilon)\n",
    "    normalized_att = att / K.sum(att, axis=1)[:, None, :]\n",
    "\n",
    "    return K.sum(out * normalized_att, axis=1)\n",
    "\n",
    "def pooling_shape(input_shape):\n",
    "\n",
    "    if isinstance(input_shape, list):\n",
    "        (sample_num, time_steps, freq_bins) = input_shape[0]\n",
    "\n",
    "    else:\n",
    "        (sample_num, time_steps, freq_bins) = input_shape\n",
    "\n",
    "    return (sample_num, freq_bins)\n",
    "\n",
    "time_steps = 10\n",
    "freq_bins = 128\n",
    "classes_num = 10\n",
    "\n",
    "# Hyper parameters\n",
    "hidden_units = 1024\n",
    "drop_rate = 0.5\n",
    "batch_size = 500\n",
    "\n",
    "# Embedded layers\n",
    "input_layer = Input(shape=X[0].shape)\n",
    "\n",
    "a1 = Dense(hidden_units)(input_layer)\n",
    "a1 = BatchNormalization()(a1)\n",
    "a1 = Activation('relu')(a1)\n",
    "a1 = Dropout(drop_rate)(a1)\n",
    "\n",
    "a2 = Dense(hidden_units)(a1)\n",
    "a2 = BatchNormalization()(a2)\n",
    "a2 = Activation('relu')(a2)\n",
    "a2 = Dropout(drop_rate)(a2)\n",
    "\n",
    "a3 = Dense(hidden_units)(a2)\n",
    "a3 = BatchNormalization()(a3)\n",
    "a3 = Activation('relu')(a3)\n",
    "a3 = Dropout(drop_rate)(a3)\n",
    "cla = Dense(hidden_units, activation='linear')(a3)\n",
    "att = Dense(hidden_units, activation='sigmoid')(a3)\n",
    "\n",
    "b1 = Lambda(attention_pooling, output_shape=pooling_shape)([cla, att])\n",
    "b1 = BatchNormalization()(b1)\n",
    "b1 = Activation(activation='relu')(b1)\n",
    "b1 = Dropout(drop_rate)(b1)\n",
    "\n",
    "output_layer = Dense(classes_num, activation='sigmoid')(b1)\n",
    "\n",
    "model = keras.Model(inputs=input_layer, outputs=output_layer, name=\"qiuqiangkong\")\n",
    "model.compile(loss='binary_crossentropy', optimizer=\"Adam\", metrics=[\"accuracy\"])\n",
    "model.summary()"
   ]
  },
  {
   "cell_type": "code",
   "execution_count": 28,
   "id": "5ee9ac88",
   "metadata": {},
   "outputs": [
    {
     "name": "stdout",
     "output_type": "stream",
     "text": [
      "Epoch 1/100\n",
      "103/103 [==============================] - 8s 54ms/step - loss: 0.1199 - accuracy: 0.8414 - val_loss: 0.0822 - val_accuracy: 0.8560\n",
      "Epoch 2/100\n",
      "103/103 [==============================] - 24s 239ms/step - loss: 0.0662 - accuracy: 0.8909 - val_loss: 0.0716 - val_accuracy: 0.8747\n",
      "Epoch 3/100\n",
      "103/103 [==============================] - 11s 105ms/step - loss: 0.0569 - accuracy: 0.9075 - val_loss: 0.0899 - val_accuracy: 0.8804\n",
      "Epoch 4/100\n",
      "103/103 [==============================] - 24s 239ms/step - loss: 0.0508 - accuracy: 0.9096 - val_loss: 0.0875 - val_accuracy: 0.8886\n",
      "Epoch 5/100\n",
      "103/103 [==============================] - 18s 172ms/step - loss: 0.0470 - accuracy: 0.9174 - val_loss: 0.0720 - val_accuracy: 0.8993\n",
      "Epoch 6/100\n",
      "103/103 [==============================] - 24s 236ms/step - loss: 0.0422 - accuracy: 0.9270 - val_loss: 0.0686 - val_accuracy: 0.8956\n",
      "Epoch 7/100\n",
      "103/103 [==============================] - 28s 268ms/step - loss: 0.0383 - accuracy: 0.9299 - val_loss: 0.0743 - val_accuracy: 0.9023\n",
      "Epoch 8/100\n",
      "103/103 [==============================] - 18s 177ms/step - loss: 0.0379 - accuracy: 0.9316 - val_loss: 0.0950 - val_accuracy: 0.8940\n",
      "Epoch 9/100\n",
      "103/103 [==============================] - 31s 306ms/step - loss: 0.0337 - accuracy: 0.9406 - val_loss: 0.0826 - val_accuracy: 0.8982\n",
      "Epoch 10/100\n",
      "103/103 [==============================] - 13s 125ms/step - loss: 0.0297 - accuracy: 0.9477 - val_loss: 0.0831 - val_accuracy: 0.9011\n",
      "Epoch 11/100\n",
      "103/103 [==============================] - 30s 287ms/step - loss: 0.0279 - accuracy: 0.9465 - val_loss: 0.0837 - val_accuracy: 0.9016\n"
     ]
    }
   ],
   "source": [
    "earlystopping = callbacks.EarlyStopping(monitor =\"val_loss\", \n",
    "                                        mode =\"min\", patience = 5, \n",
    "                                        restore_best_weights = True)\n",
    "\n",
    "\n",
    "history = model.fit(\n",
    "    x_train,\n",
    "    y_train,\n",
    "    batch_size=64, # batch size 1 doesn't work\n",
    "    epochs=100,\n",
    "    validation_data=(x_eval, y_eval),\n",
    "    callbacks =[earlystopping]\n",
    ")"
   ]
  },
  {
   "cell_type": "code",
   "execution_count": 29,
   "id": "fd6f9d44",
   "metadata": {},
   "outputs": [],
   "source": [
    "models_dir = \"./models/\"\n",
    "\n",
    "model.save_weights(f\"{models_dir}qiuqiangkong_b64_hdf5_new_weights.tf\")"
   ]
  },
  {
   "cell_type": "code",
   "execution_count": 30,
   "id": "5447ad6b",
   "metadata": {},
   "outputs": [
    {
     "data": {
      "image/png": "[encoded data removed]",
      "text/plain": [
       "<Figure size 432x288 with 1 Axes>"
      ]
     },
     "metadata": {
      "needs_background": "light"
     },
     "output_type": "display_data"
    }
   ],
   "source": [
    "import matplotlib.pyplot as plt\n",
    "\n",
    "plt.plot(history.history['accuracy'])\n",
    "plt.plot(history.history['val_accuracy'])\n",
    "plt.title('qiuqiangkong model accuracy')\n",
    "plt.ylabel('accuracy')\n",
    "plt.xlabel('epoch')\n",
    "plt.legend(['train', 'val'], loc='upper left')\n",
    "plt.show()"
   ]
  },
  {
   "cell_type": "code",
   "execution_count": 31,
   "id": "3ea37498",
   "metadata": {},
   "outputs": [
    {
     "data": {
      "image/png": "[encoded data removed]",
      "text/plain": [
       "<Figure size 432x288 with 1 Axes>"
      ]
     },
     "metadata": {
      "needs_background": "light"
     },
     "output_type": "display_data"
    }
   ],
   "source": [
    "plt.plot(history.history['loss'])\n",
    "plt.plot(history.history['val_loss'])\n",
    "plt.title('qiuqiangkong model loss')\n",
    "plt.ylabel('loss')\n",
    "plt.xlabel('epoch')\n",
    "plt.legend(['loss', 'val'], loc='upper left')\n",
    "plt.show()"
   ]
  },
  {
   "cell_type": "code",
   "execution_count": 32,
   "id": "279b52f1",
   "metadata": {},
   "outputs": [],
   "source": [
    "# Generate predictions\n",
    "y_pred = model.predict(x_eval)"
   ]
  },
  {
   "cell_type": "code",
   "execution_count": 33,
   "id": "ac02fa6c",
   "metadata": {},
   "outputs": [],
   "source": [
    "# Transform one hot encoding to a series of ints for confusion matrix\n",
    "\n",
    "y_pred = np.argmax(y_pred, axis=1)\n",
    "y_eval_transformed = np.argmax(y_eval, axis=1)"
   ]
  },
  {
   "cell_type": "code",
   "execution_count": 34,
   "id": "1021eca5",
   "metadata": {},
   "outputs": [
    {
     "data": {
      "image/png": "[encoded data removed]",
      "text/plain": [
       "<Figure size 720x720 with 2 Axes>"
      ]
     },
     "metadata": {
      "needs_background": "light"
     },
     "output_type": "display_data"
    }
   ],
   "source": [
    "import matplotlib.pyplot as plt\n",
    "from sklearn.metrics import confusion_matrix, ConfusionMatrixDisplay\n",
    "\n",
    "\n",
    "fig, ax = plt.subplots(figsize=(10,10))\n",
    "disp = ConfusionMatrixDisplay.from_predictions(y_eval_transformed, y_pred, display_labels=[df.iloc[y][\"display_name\"] for y in filter_classes], \n",
    "                              xticks_rotation='vertical', ax=ax)"
   ]
  },
  {
   "cell_type": "code",
   "execution_count": null,
   "id": "c9c80acc",
   "metadata": {},
   "outputs": [],
   "source": []
  }
 ],
 "metadata": {
  "kernelspec": {
   "display_name": "Python 3 (ipykernel)",
   "language": "python",
   "name": "python3"
  },
  "language_info": {
   "codemirror_mode": {
    "name": "ipython",
    "version": 3
   },
   "file_extension": ".py",
   "mimetype": "text/x-python",
   "name": "python",
   "nbconvert_exporter": "python",
   "pygments_lexer": "ipython3",
   "version": "3.10.4"
  }
 },
 "nbformat": 4,
 "nbformat_minor": 5
}
