{
 "cells": [
  {
   "cell_type": "markdown",
   "id": "3ed2bbf6",
   "metadata": {},
   "source": [
    "## Load AudioSet data from file\n",
    "\n",
    "Data extracted by:\n",
    "https://github.com/qiuqiangkong/audioset_classification"
   ]
  },
  {
<<<<<<< Updated upstream
   "cell_type": "raw",
   "id": "62ab52e5",
=======
   "cell_type": "code",
   "execution_count": 1,
   "id": "3e94b4f0",
>>>>>>> Stashed changes
   "metadata": {},
   "source": [
    "import h5py\n",
    "import numpy as np\n",
    "\n",
    "feat_dir = \"./features\"\n",
    "models_dir = \"./models\"\n",
    "hdf5_path = \"../dataset/packed_features\"\n",
    "\n",
    "def load_data(hdf5_path):\n",
    "    with h5py.File(hdf5_path, 'r') as hf:\n",
    "        x = hf.get('x')\n",
    "        y = hf.get('y')\n",
    "        video_id_list = hf.get('video_id_list')\n",
    "        x = np.array(x)\n",
    "        y = list(y)\n",
    "        video_id_list = list(video_id_list)\n",
    "        \n",
    "    return x, y, video_id_list\n",
    "\n",
    "(X_train, y_train, train_video_id_list) = load_data(hdf5_path+\"/bal_train.h5\")\n",
    "(X_eval, y_eval, eval_video_id_list) = load_data(hdf5_path+\"/eval.h5\")\n",
    "(X_unbal, y_unbal, unbal_video_id_list) = load_data(hdf5_path+\"/unbal_train.h5\")\n",
    "\n",
<<<<<<< Updated upstream
    "(x_train, y_train, train_video_id_list) = load_data(hdf5_path+\"/bal_train.h5\")\n",
    "(x_eval, y_eval, eval_video_id_list) = load_data(hdf5_path+\"/eval.h5\")\n",
    "(x_unbal, y_unbal, unbal_video_id_list) = load_data(hdf5_path+\"/unbal_train.h5\")"
   ]
  },
  {
   "cell_type": "raw",
   "id": "86ec58b7",
   "metadata": {},
   "source": [
    "#Convert\n",
    "x_train = uint8_to_float32(x_train)\t\t# shape: (N, 10, 128)\n",
=======
    "#Convert y from bool to int\n",
>>>>>>> Stashed changes
    "y_train = np.array(y_train).astype(int)\t\t\t# shape: (N, 527)\n",
    "y_eval = np.array(y_eval).astype(int)\n",
    "y_unbal = np.array(y_unbal).astype(int)"
   ]
  },
  {
<<<<<<< Updated upstream
   "cell_type": "raw",
   "id": "0a6d9ef6",
   "metadata": {},
   "source": [
    "# Save everything\n",
    "import pickle\n",
    "from pathlib import Path\n",
    "\n",
    "base_dir = \"./features/\"\n",
    "# Save training and evaluation sets\n",
    "Path(base_dir).mkdir(exist_ok=True)   \n",
    "\n",
    "dump_filename = f\"{base_dir}x_train_new.pkl\"\n",
    "with open(dump_filename, \"wb\") as dump_file:\n",
    "    pickle.dump(x_train, dump_file)\n",
    "    \n",
    "dump_filename = f\"{base_dir}y_train_new.pkl\"\n",
    "with open(dump_filename, \"wb\") as dump_file:\n",
    "    pickle.dump(y_train, dump_file)\n",
    "    \n",
    "dump_filename = f\"{base_dir}X_eval_new.pkl\"\n",
    "with open(dump_filename, \"wb\") as dump_file:\n",
    "    pickle.dump(x_eval, dump_file)\n",
    "    \n",
    "dump_filename = f\"{base_dir}y_eval_new.pkl\"\n",
    "with open(dump_filename, \"wb\") as dump_file:\n",
    "    pickle.dump(y_eval, dump_file)\n",
    "    \n",
    "dump_filename = f\"{base_dir}X_unbal_new.pkl\"\n",
    "with open(dump_filename, \"wb\") as dump_file:\n",
    "    pickle.dump(x_unbal, dump_file)\n",
    "    \n",
    "dump_filename = f\"{base_dir}y_unbal_new.pkl\"\n",
    "with open(dump_filename, \"wb\") as dump_file:\n",
    "    pickle.dump(y_unbal, dump_file)"
   ]
  },
  {
   "cell_type": "code",
   "execution_count": 47,
   "id": "5a930712",
=======
   "cell_type": "markdown",
   "id": "b069bf72",
>>>>>>> Stashed changes
   "metadata": {},
   "source": [
    "# Select classes for our model"
   ]
  },
  {
   "cell_type": "code",
<<<<<<< Updated upstream
   "execution_count": 48,
   "id": "7a16eaa7",
=======
   "execution_count": 2,
   "id": "ce578a67",
>>>>>>> Stashed changes
   "metadata": {
    "scrolled": false
   },
   "outputs": [
    {
     "data": {
      "text/html": [
       "<div><div id=5012e531-c575-4d13-aa71-179d9f036f5f style=\"display:none; background-color:#9D6CFF; color:white; width:200px; height:30px; padding-left:5px; border-radius:4px; flex-direction:row; justify-content:space-around; align-items:center;\" onmouseover=\"this.style.backgroundColor='#BA9BF8'\" onmouseout=\"this.style.backgroundColor='#9D6CFF'\" onclick=\"window.commands?.execute('create-mitosheet-from-dataframe-output');\">See Full Dataframe in Mito</div> <script> if (window.commands.hasCommand('create-mitosheet-from-dataframe-output')) document.getElementById('5012e531-c575-4d13-aa71-179d9f036f5f').style.display = 'flex' </script> <table border=\"1\" class=\"dataframe\">\n",
       "  <thead>\n",
       "    <tr style=\"text-align: right;\">\n",
       "      <th></th>\n",
       "      <th>mid</th>\n",
       "      <th>display_name</th>\n",
       "    </tr>\n",
       "    <tr>\n",
       "      <th>index</th>\n",
       "      <th></th>\n",
       "      <th></th>\n",
       "    </tr>\n",
       "  </thead>\n",
       "  <tbody>\n",
       "    <tr>\n",
       "      <th>0</th>\n",
       "      <td>/m/09x0r</td>\n",
       "      <td>Speech</td>\n",
       "    </tr>\n",
       "    <tr>\n",
       "      <th>3</th>\n",
       "      <td>/m/0ytgt</td>\n",
       "      <td>Child speech, kid speaking</td>\n",
       "    </tr>\n",
       "    <tr>\n",
       "      <th>74</th>\n",
       "      <td>/m/0bt9lr</td>\n",
       "      <td>Dog</td>\n",
       "    </tr>\n",
       "    <tr>\n",
       "      <th>115</th>\n",
       "      <td>/m/0h0rv</td>\n",
       "      <td>Pigeon, dove</td>\n",
       "    </tr>\n",
       "    <tr>\n",
       "      <th>138</th>\n",
       "      <td>/m/04szw</td>\n",
       "      <td>Musical instrument</td>\n",
       "    </tr>\n",
       "    <tr>\n",
       "      <th>307</th>\n",
       "      <td>/m/0k4j</td>\n",
       "      <td>Car</td>\n",
       "    </tr>\n",
       "    <tr>\n",
       "      <th>308</th>\n",
       "      <td>/m/0912c9</td>\n",
       "      <td>Vehicle horn, car horn, honking</td>\n",
       "    </tr>\n",
       "    <tr>\n",
       "      <th>328</th>\n",
       "      <td>/m/06d_3</td>\n",
       "      <td>Rail transport</td>\n",
       "    </tr>\n",
       "    <tr>\n",
       "      <th>396</th>\n",
       "      <td>/m/03kmc9</td>\n",
       "      <td>Siren</td>\n",
       "    </tr>\n",
       "    <tr>\n",
       "      <th>420</th>\n",
       "      <td>/m/03p19w</td>\n",
       "      <td>Jackhammer</td>\n",
       "    </tr>\n",
       "  </tbody>\n",
       "</table></div>"
      ],
      "text/plain": [
       "             mid                     display_name\n",
       "index                                            \n",
       "0       /m/09x0r                           Speech\n",
       "3       /m/0ytgt       Child speech, kid speaking\n",
       "74     /m/0bt9lr                              Dog\n",
       "115     /m/0h0rv                     Pigeon, dove\n",
       "138     /m/04szw               Musical instrument\n",
       "307      /m/0k4j                              Car\n",
       "308    /m/0912c9  Vehicle horn, car horn, honking\n",
       "328     /m/06d_3                   Rail transport\n",
       "396    /m/03kmc9                            Siren\n",
       "420    /m/03p19w                       Jackhammer"
      ]
     },
     "execution_count": 2,
     "metadata": {},
     "output_type": "execute_result"
    }
   ],
   "source": [
    "import pandas as pd\n",
    "\n",
    "classes_file = \"../dataset/class_labels_indices.csv\"\n",
    "\n",
    "labels_df = pd.read_csv(classes_file)\n",
    "labels_df = labels_df.set_index('index')\n",
    "\n",
    "selected_classes = [\"Speech\", \"Musical instrument\", \"Car\", \"Dog\", \"Child speech, kid speaking\", \"Rail transport\",\n",
    "                    \"Siren\", \"Vehicle horn, car horn, honking\", \"Jackhammer\", \"Pigeon, dove\"]\n",
    "\n",
    "df_sel = labels_df[labels_df['display_name'].isin(selected_classes)]\n",
    "df_sel.head(10)"
   ]
  },
  {
   "cell_type": "markdown",
   "id": "f98f834d",
   "metadata": {},
   "source": [
    "## Filter training sets\n",
    "Select only our classes. Reduce from 527 to 10 classes."
   ]
  },
  {
   "cell_type": "code",
   "execution_count": 8,
   "id": "f0333061",
   "metadata": {
    "scrolled": true
   },
   "outputs": [],
   "source": [
    "filter_classes = list(df_sel.index)\n",
    "\n",
    "y_train_filtered = y_train[:,filter_classes]\n",
    "\n",
    "# Rows that contain only ONE of our classes\n",
    "filter_ = np.argwhere(np.sum(y_train_filtered, axis=1) == 1)\n",
    "y_train = y_train_filtered[filter_.flat]\n",
    "X_train = X_train[filter_.flat]\n",
    "train_video_id_list = np.array(train_video_id_list)[filter_.flat]\n",
    "\n",
    "y_eval_filtered = y_eval[:,filter_classes]\n",
    "\n",
    "filter_ = np.argwhere(np.sum(y_eval_filtered, axis=1) == 1)\n",
    "y_eval = y_eval_filtered[filter_.flat]\n",
    "X_eval = X_eval[filter_.flat]\n",
    "eval_video_id_list = np.array(eval_video_id_list)[filter_.flat]\n",
    "\n",
    "y_unbal_filtered = y_unbal[:,filter_classes]\n",
    "\n",
    "filter_ = np.argwhere(np.sum(y_unbal_filtered, axis=1) == 1)\n",
    "y_unbal = y_unbal_filtered[filter_.flat]\n",
    "X_unbal = X_unbal[filter_.flat]\n",
    "unbal_video_id_list = np.array(unbal_video_id_list)[filter_.flat]"
   ]
  },
  {
   "cell_type": "markdown",
   "id": "ed2e3ad1",
   "metadata": {},
   "source": [
    "## One hot encoding for our classes"
   ]
  },
  {
   "cell_type": "code",
   "execution_count": 17,
   "id": "57183c92",
   "metadata": {},
   "outputs": [
    {
     "name": "stdout",
     "output_type": "stream",
     "text": [
      "[0, 3, 74, 115, 138, 307, 308, 328, 396, 420]\n"
     ]
    }
   ],
   "source": [
    "import pickle\n",
    "from sklearn.preprocessing import MultiLabelBinarizer\n",
    "\n",
    "mlb = MultiLabelBinarizer()\n",
    "mlb.fit([filter_classes])\n",
    "print(list(mlb.classes_))\n",
    "\n",
    "# Save mlb for our project\n",
    "dump_filename = f\"{feat_dir}/new_multiLabelBinarizer.pkl\"\n",
    "with open(dump_filename, \"wb\") as dump_file:\n",
    "    pickle.dump(mlb, dump_file)"
   ]
  },
  {
   "cell_type": "code",
   "execution_count": 27,
   "id": "b50d1e96",
   "metadata": {},
   "outputs": [
    {
     "name": "stdout",
     "output_type": "stream",
     "text": [
      "{0: 'Speech', 3: 'Child speech, kid speaking', 74: 'Dog', 115: 'Pigeon, dove', 138: 'Musical instrument', 307: 'Car', 308: 'Vehicle horn, car horn, honking', 328: 'Rail transport', 396: 'Siren', 420: 'Jackhammer'}\n"
     ]
    }
   ],
   "source": [
    "# Create dictionary with our classes\n",
    "selected_classes_dict = {}\n",
    "for i in filter_classes:\n",
    "    selected_classes_dict[i] = labels_df.iloc[i]['display_name']\n",
    "\n",
    "print(selected_classes_dict)\n",
    "# Save for later use\n",
    "dump_filename = f\"{feat_dir}/new_classes_dict.pkl\"\n",
    "\n",
    "with open(dump_filename, \"wb\") as dump_file:\n",
    "    pickle.dump(selected_classes_dict, dump_file)"
   ]
  },
  {
   "cell_type": "markdown",
   "id": "954e5065",
   "metadata": {},
   "source": [
    "## Save data"
   ]
  },
  {
   "cell_type": "code",
   "execution_count": 48,
   "id": "7a773494",
   "metadata": {},
   "outputs": [],
   "source": [
    "# Save everything\n",
    "import pickle\n",
    "from pathlib import Path\n",
    "\n",
    "# Save training and evaluation sets\n",
    "Path(feat_dir).mkdir(exist_ok=True)   \n",
    "\n",
    "dump_filename = f\"{feat_dir}/new_X_train.pkl\"\n",
    "with open(dump_filename, \"wb\") as dump_file:\n",
    "    pickle.dump(X_train, dump_file)\n",
    "    \n",
    "dump_filename = f\"{feat_dir}/new_y_train.pkl\"\n",
    "with open(dump_filename, \"wb\") as dump_file:\n",
    "    pickle.dump(y_train, dump_file)\n",
    "    \n",
    "dump_filename = f\"{feat_dir}/new_X_eval.pkl\"\n",
    "with open(dump_filename, \"wb\") as dump_file:\n",
    "    pickle.dump(X_eval, dump_file)\n",
    "    \n",
    "dump_filename = f\"{feat_dir}/new_y_eval.pkl\"\n",
    "with open(dump_filename, \"wb\") as dump_file:\n",
    "    pickle.dump(y_eval, dump_file)\n",
    "    \n",
    "dump_filename = f\"{feat_dir}/new_X_unbal.pkl\"\n",
    "with open(dump_filename, \"wb\") as dump_file:\n",
    "    pickle.dump(X_unbal, dump_file)\n",
    "    \n",
    "dump_filename = f\"{feat_dir}/new_y_unbal.pkl\"\n",
    "with open(dump_filename, \"wb\") as dump_file:\n",
    "    pickle.dump(y_unbal, dump_file)"
   ]
  },
  {
   "cell_type": "raw",
   "id": "f603fc15",
   "metadata": {},
   "source": [
    "X = np.concatenate((x_train, x_unbal))\n",
    "y = np.concatenate((y_train, y_unbal))"
   ]
  },
  {
   "cell_type": "markdown",
   "id": "8f7d5804",
   "metadata": {},
   "source": [
    "## Balanced data"
   ]
  },
  {
   "cell_type": "code",
   "execution_count": 93,
   "id": "a1faf1f1",
   "metadata": {},
   "outputs": [],
   "source": [
    "y_df = pd.DataFrame(y_train)\n",
    "counters = {}\n",
    "for i in range(y_train.shape[1]):\n",
    "    counters[df_sel.iloc[i][\"display_name\"]] = y_df[i].value_counts().loc[1]"
   ]
  },
  {
   "cell_type": "code",
   "execution_count": 94,
   "id": "ba860022",
   "metadata": {
    "scrolled": true
   },
   "outputs": [
    {
     "data": {
      "text/plain": [
       "{'Speech': 5303,\n",
       " 'Child speech, kid speaking': 35,\n",
       " 'Dog': 180,\n",
       " 'Pigeon, dove': 60,\n",
       " 'Musical instrument': 444,\n",
       " 'Car': 197,\n",
       " 'Vehicle horn, car horn, honking': 29,\n",
       " 'Rail transport': 187,\n",
       " 'Siren': 206,\n",
       " 'Jackhammer': 42}"
      ]
     },
     "execution_count": 94,
     "metadata": {},
     "output_type": "execute_result"
    }
   ],
   "source": [
    "counters"
   ]
  },
  {
   "cell_type": "code",
   "execution_count": 95,
   "id": "1828c291",
   "metadata": {
    "scrolled": true
   },
   "outputs": [
    {
     "data": {
      "image/png": "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\n",
      "text/plain": [
       "<Figure size 1440x288 with 1 Axes>"
      ]
     },
     "metadata": {
      "needs_background": "light"
     },
     "output_type": "display_data"
    }
   ],
   "source": [
    "import matplotlib.pyplot as plt\n",
    "plt.figure(figsize=(20,4))    \n",
    "plt.bar(counters.keys(), counters.values(), 1)\n",
    "plt.xticks(rotation = 90)\n",
    "plt.show()"
   ]
  },
  {
   "cell_type": "markdown",
   "id": "59116a7c",
   "metadata": {},
   "source": [
    "### Remove speech from the diagram"
   ]
  },
  {
   "cell_type": "code",
   "execution_count": 98,
   "id": "7a16eaa7",
   "metadata": {
    "scrolled": true
   },
   "outputs": [
    {
     "data": {
      "image/png": "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\n",
      "text/plain": [
       "<Figure size 1440x288 with 1 Axes>"
      ]
     },
     "metadata": {
      "needs_background": "light"
     },
     "output_type": "display_data"
    }
   ],
   "source": [
    "top = dict(sorted(counters.items(), key=lambda item: item[1], reverse=True)[1:10])\n",
    "\n",
    "plt.figure(figsize=(20,4))    \n",
    "plt.bar(top.keys(), top.values(), 1)\n",
    "plt.xticks(rotation = 90)\n",
    "plt.show()"
   ]
  },
  {
   "cell_type": "markdown",
   "id": "c26341ca",
   "metadata": {},
   "source": [
    "## Join Balanced and unbalanced data"
   ]
  },
  {
   "cell_type": "code",
   "execution_count": 99,
   "id": "405c8281",
   "metadata": {},
   "outputs": [],
   "source": [
    "X = np.concatenate((x_train, x_unbal))\n",
    "y = np.concatenate((y_train, y_unbal))"
   ]
  },
  {
   "cell_type": "code",
   "execution_count": 103,
   "id": "f227caf9",
   "metadata": {},
   "outputs": [],
   "source": [
    "y_df = pd.DataFrame(y)\n",
    "counters = {}\n",
    "for i in range(y.shape[1]):\n",
    "    counters[df_sel.iloc[i][\"display_name\"]] = y_df[i].value_counts().loc[1]"
   ]
  },
  {
   "cell_type": "code",
   "execution_count": 114,
   "id": "f7bd233c",
   "metadata": {},
   "outputs": [
    {
     "data": {
      "text/plain": [
       "{'Speech': 956201,\n",
       " 'Child speech, kid speaking': 1757,\n",
       " 'Dog': 7041,\n",
       " 'Pigeon, dove': 5621,\n",
       " 'Musical instrument': 102787,\n",
       " 'Car': 27407,\n",
       " 'Vehicle horn, car horn, honking': 2011,\n",
       " 'Rail transport': 7784,\n",
       " 'Siren': 7491,\n",
       " 'Jackhammer': 160}"
      ]
     },
     "execution_count": 114,
     "metadata": {},
     "output_type": "execute_result"
    }
   ],
   "source": [
    "counters"
   ]
  },
  {
   "cell_type": "code",
   "execution_count": 109,
   "id": "c0c3d97e",
   "metadata": {
    "scrolled": true
   },
   "outputs": [
    {
     "data": {
      "image/png": "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\n",
      "text/plain": [
       "<Figure size 1440x288 with 1 Axes>"
      ]
     },
     "metadata": {
      "needs_background": "light"
     },
     "output_type": "display_data"
    }
   ],
   "source": [
    "plt.figure(figsize=(20,4))    \n",
    "plt.bar(counters.keys(), counters.values(), 1)\n",
    "plt.xticks(rotation = 90)\n",
    "plt.show()"
   ]
  },
  {
   "cell_type": "code",
   "execution_count": null,
   "id": "c9c80acc",
   "metadata": {},
   "outputs": [],
   "source": [
    "from sklearn.preprocessing import MultiLabelBinarizer\n",
    "\n",
    "mlb = MultiLabelBinarizer()\n",
    "mlb.fit([selected_classes_indexes])\n",
    "print(list(mlb.classes_))\n",
    "\n",
    "# Save mlb for our project\n",
    "base_dir = \"./features/\"\n",
    "\n",
    "dump_filename = f\"{base_dir}multiLabelBinarizer.pkl\"\n",
    "with open(dump_filename, \"wb\") as dump_file:\n",
    "    pickle.dump(mlb, dump_file)"
   ]
  }
 ],
 "metadata": {
  "kernelspec": {
   "display_name": "Python 3 (ipykernel)",
   "language": "python",
   "name": "python3"
  },
  "language_info": {
   "codemirror_mode": {
    "name": "ipython",
    "version": 3
   },
   "file_extension": ".py",
   "mimetype": "text/x-python",
   "name": "python",
   "nbconvert_exporter": "python",
   "pygments_lexer": "ipython3",
   "version": "3.10.4"
  }
 },
 "nbformat": 4,
 "nbformat_minor": 5
}
